{
 "cells": [
  {
   "cell_type": "markdown",
   "metadata": {},
   "source": [
    "# Programs :"
   ]
  },
  {
   "cell_type": "markdown",
   "metadata": {},
   "source": [
    "## Directory Tree :"
   ]
  },
  {
   "cell_type": "markdown",
   "metadata": {},
   "source": [
    "✔ Directory Structure\n",
    "\n",
    "```Bash\n",
    "    ├───.vscode\n",
    "    ├───01.Headers\n",
    "    ├───02.Basic_Errors\n",
    "    ├───03.CPP_Structure\n",
    "    ├───04.Types\n",
    "    ├───05.Bit_Masking\n",
    "    ├───05.Collection\n",
    "    ├───06.Operators\n",
    "    ├───07.Control_flow\n",
    "    ├───08.Strings\n",
    "    ├───09.Functions\n",
    "    ├───10.Pointers\n",
    "    ├───11.Classes\n",
    "    ├───12.Overloading\n",
    "    ├───13.Comparision-Operator       \n",
    "    ├───14.Inheritance\n",
    "    ├───Algorithms\n",
    "    │   ├───1.Sum-of-digit\n",
    "    │   ├───2.Max-Pairwise-Product    \n",
    "    │   ├───Binary_Search\n",
    "    │   ├───Bit_Manipulation\n",
    "    │   ├───Factorial\n",
    "    │   ├───Fibonacci\n",
    "    │   ├───GCD\n",
    "    │   ├───Iteration\n",
    "    │   ├───Matrices\n",
    "    │   ├───Matrix_chain_mul\n",
    "    │   ├───Patterns\n",
    "    │   ├───Quick_sort\n",
    "    │   ├───Recurrsion\n",
    "    │   ├───Sum_of\n",
    "    │   ├───Swap\n",
    "    │   └───TOC\n",
    "    ├───CF.Solves\n",
    "    ├───HE.Arrays_and_Strings\n",
    "    ├───HE.Basic_Programming\n",
    "    ├───HE.Data_Structure\n",
    "    ├───HR.30_Day_of_code\n",
    "    ├───HR.CPP\n",
    "    ├───HR.Problem_Solving\n",
    "    ├───LC.Problems\n",
    "    ├───Programs\n",
    "    │   ├───Count_Words\n",
    "    │   ├───Measure_exec_time\n",
    "    │   ├───Number-system\n",
    "    │   ├───Random_function\n",
    "    │   ├───Stress-Testing\n",
    "    │   └───Word_Pyramid\n",
    "    └───_Files\n",
    "```"
   ]
  }
 ],
 "metadata": {
  "interpreter": {
   "hash": "5773ed323e1048ff6285cacffa528021472c55fe9f804958497adfb057554e94"
  },
  "kernelspec": {
   "display_name": "Python 3.10.0 64-bit",
   "language": "python",
   "name": "python3"
  },
  "language_info": {
   "name": "python",
   "version": "3.10.0"
  },
  "orig_nbformat": 4
 },
 "nbformat": 4,
 "nbformat_minor": 2
}
