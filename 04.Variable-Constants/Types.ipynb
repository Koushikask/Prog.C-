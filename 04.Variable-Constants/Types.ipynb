{
 "cells": [
  {
   "cell_type": "markdown",
   "source": [
    "| Type | Size | Precision | Comment |\r\n",
    "| :--- | :--- | :--- | :--- |\r\n",
    "| float | 4 | 7 | - |\r\n",
    "| double | 7 | 15 | Recommanded default |\r\n",
    "| long double | 12 | > double |  |\r\n",
    "\r\n",
    "</br>\r\n",
    "\r\n",
    "| Operation | Display |\r\n",
    "| :--- | :--- |\r\n",
    "| n(floating point)/ 0 | Infinity( + / -) |\r\n",
    "| 0.0/ 0.0 | Nan |"
   ],
   "metadata": {}
  },
  {
   "cell_type": "code",
   "execution_count": null,
   "source": [],
   "outputs": [],
   "metadata": {}
  }
 ],
 "metadata": {
  "orig_nbformat": 4,
  "language_info": {
   "name": "python"
  }
 },
 "nbformat": 4,
 "nbformat_minor": 2
}